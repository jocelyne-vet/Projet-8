{
 "cells": [
  {
   "cell_type": "code",
   "execution_count": 15,
   "id": "94efb4a4",
   "metadata": {},
   "outputs": [],
   "source": [
    "import sagemaker\n",
    "import tensorflow as tf\n",
    "\n",
    "from pyspark import SparkContext, SparkConf\n",
    "from pyspark.sql import SparkSession\n",
    "\n",
    "from sagemaker import get_execution_role\n",
    "import sagemaker_pyspark\n",
    "\n",
    "\n",
    "# tensorflow\n",
    "from tensorflow.keras.preprocessing import image\n",
    "from tensorflow.keras.applications.vgg16 import VGG16\n",
    "from tensorflow.keras.applications.vgg16 import preprocess_input\n",
    "from tensorflow.keras.preprocessing.image import img_to_array, load_img\n",
    "\n",
    "\n",
    "# Additionl libraries\n",
    "import numpy as np\n",
    "import random\n",
    "import os\n",
    "from PIL import Image\n",
    "import numpy as np\n",
    "# import matplotlib.pyplot as plt\n",
    "# import tarfile\n",
    "import urllib\n",
    "import boto3\n",
    "from sklearn import decomposition\n",
    "import pandas as pd"
   ]
  },
  {
   "cell_type": "code",
   "execution_count": 2,
   "id": "07666d97",
   "metadata": {},
   "outputs": [
    {
     "name": "stdout",
     "output_type": "stream",
     "text": [
      "sagemaker version 2.59.3\n",
      "tensorflow version 2.3.4\n",
      "numpy version 1.18.5\n",
      "boto3 version 1.18.45\n"
     ]
    }
   ],
   "source": [
    "print('sagemaker version', sagemaker.__version__)\n",
    "print('tensorflow version', tf.__version__)\n",
    "print('numpy version', np.__version__)\n",
    "print('boto3 version',boto3.__version__)"
   ]
  },
  {
   "cell_type": "code",
   "execution_count": null,
   "id": "3453f92f",
   "metadata": {},
   "outputs": [],
   "source": [
    "# First, we import the necessary modules and create the SparkSession with the SageMaker-Spark dependencies attached"
   ]
  },
  {
   "cell_type": "code",
   "execution_count": 3,
   "id": "cc603c33",
   "metadata": {},
   "outputs": [],
   "source": [
    "role = get_execution_role()\n",
    "\n",
    "# Configure Spark to use the SageMaker Spark dependency jars\n",
    "jars = sagemaker_pyspark.classpath_jars()\n",
    "\n",
    "classpath = \":\".join(sagemaker_pyspark.classpath_jars())\n",
    "\n",
    "# See the SageMaker Spark Github to learn how to connect to EMR from a notebook instance\n",
    "spark = (\n",
    "    SparkSession.builder.config(\"spark.driver.extraClassPath\", classpath)\n",
    "    .master(\"local[*]\")\n",
    "    .getOrCreate()\n",
    ")"
   ]
  },
  {
   "cell_type": "code",
   "execution_count": 4,
   "id": "4ed89356",
   "metadata": {},
   "outputs": [],
   "source": [
    "# connect to s3 test"
   ]
  },
  {
   "cell_type": "code",
   "execution_count": 5,
   "id": "49395bbb",
   "metadata": {},
   "outputs": [],
   "source": [
    "bucket_name = 'ocfruits17102021'"
   ]
  },
  {
   "cell_type": "code",
   "execution_count": 6,
   "id": "b573c582",
   "metadata": {},
   "outputs": [
    {
     "name": "stdout",
     "output_type": "stream",
     "text": [
      "Fruits/Apple_Braeburn/0_100.jpg\n",
      "Fruits/Apple_Braeburn/100_100.jpg\n",
      "Fruits/Apple_Braeburn/101_100.jpg\n"
     ]
    }
   ],
   "source": [
    "s3 = boto3.resource('s3')\n",
    "my_bucket = s3.Bucket(bucket_name)\n",
    "dir_name = ''\n",
    "for image in my_bucket.objects.limit(3):\n",
    "    print(image.key)"
   ]
  },
  {
   "cell_type": "code",
   "execution_count": 7,
   "id": "4b09f2a0",
   "metadata": {},
   "outputs": [],
   "source": [
    "# Preprocessing des images"
   ]
  },
  {
   "cell_type": "code",
   "execution_count": 8,
   "id": "53632458",
   "metadata": {},
   "outputs": [],
   "source": [
    "# utilisation de vgg16"
   ]
  },
  {
   "cell_type": "code",
   "execution_count": 9,
   "id": "1b16420b",
   "metadata": {},
   "outputs": [
    {
     "name": "stdout",
     "output_type": "stream",
     "text": [
      "Model: \"vgg16\"\n",
      "_________________________________________________________________\n",
      "Layer (type)                 Output Shape              Param #   \n",
      "=================================================================\n",
      "input_1 (InputLayer)         [(None, None, None, 3)]   0         \n",
      "_________________________________________________________________\n",
      "block1_conv1 (Conv2D)        (None, None, None, 64)    1792      \n",
      "_________________________________________________________________\n",
      "block1_conv2 (Conv2D)        (None, None, None, 64)    36928     \n",
      "_________________________________________________________________\n",
      "block1_pool (MaxPooling2D)   (None, None, None, 64)    0         \n",
      "_________________________________________________________________\n",
      "block2_conv1 (Conv2D)        (None, None, None, 128)   73856     \n",
      "_________________________________________________________________\n",
      "block2_conv2 (Conv2D)        (None, None, None, 128)   147584    \n",
      "_________________________________________________________________\n",
      "block2_pool (MaxPooling2D)   (None, None, None, 128)   0         \n",
      "_________________________________________________________________\n",
      "block3_conv1 (Conv2D)        (None, None, None, 256)   295168    \n",
      "_________________________________________________________________\n",
      "block3_conv2 (Conv2D)        (None, None, None, 256)   590080    \n",
      "_________________________________________________________________\n",
      "block3_conv3 (Conv2D)        (None, None, None, 256)   590080    \n",
      "_________________________________________________________________\n",
      "block3_pool (MaxPooling2D)   (None, None, None, 256)   0         \n",
      "_________________________________________________________________\n",
      "block4_conv1 (Conv2D)        (None, None, None, 512)   1180160   \n",
      "_________________________________________________________________\n",
      "block4_conv2 (Conv2D)        (None, None, None, 512)   2359808   \n",
      "_________________________________________________________________\n",
      "block4_conv3 (Conv2D)        (None, None, None, 512)   2359808   \n",
      "_________________________________________________________________\n",
      "block4_pool (MaxPooling2D)   (None, None, None, 512)   0         \n",
      "_________________________________________________________________\n",
      "block5_conv1 (Conv2D)        (None, None, None, 512)   2359808   \n",
      "_________________________________________________________________\n",
      "block5_conv2 (Conv2D)        (None, None, None, 512)   2359808   \n",
      "_________________________________________________________________\n",
      "block5_conv3 (Conv2D)        (None, None, None, 512)   2359808   \n",
      "_________________________________________________________________\n",
      "block5_pool (MaxPooling2D)   (None, None, None, 512)   0         \n",
      "=================================================================\n",
      "Total params: 14,714,688\n",
      "Trainable params: 14,714,688\n",
      "Non-trainable params: 0\n",
      "_________________________________________________________________\n"
     ]
    }
   ],
   "source": [
    "model = VGG16(weights=None, include_top=False) # La suppression des dernières couches se fait en ajoutant l'argument  include_top = False  lors de l'import du modèle pré-entraîné.\n",
    "model.summary()"
   ]
  },
  {
   "cell_type": "code",
   "execution_count": 10,
   "id": "3a42c832",
   "metadata": {},
   "outputs": [],
   "source": [
    "s3 = boto3.resource('s3', region_name='eu-west-1')\n",
    "bucket = s3.Bucket(bucket_name)\n",
    "features_list = []\n",
    "\n",
    "\n",
    "for file in s3.Bucket(bucket_name).objects.limit(1000):\n",
    "        path = file.key\n",
    "         # chargement de l'image\n",
    "        response = file.get()\n",
    "        file_stream = response['Body']\n",
    "        im = Image.open(file_stream)\n",
    "        # transformation de l'image en np.array\n",
    "        image = np.asarray(im)\n",
    "     \n",
    "        # reshape data for the model\n",
    "        image = image.reshape((1, image.shape[0], image.shape[1], image.shape[2]))\n",
    "        # prepare the image for the VGG model\n",
    "        image = preprocess_input(image)\n",
    "        # predict the probability across all output classes\n",
    "    \n",
    "        feature = model.predict(image)\n",
    "        features_np = np.array(feature) # transformation de la liste en array\n",
    "        features_list.append(features_np.flatten()) # flatten : Return a copy of the array collapsed into one dimension.\n",
    "    \n",
    "        \n",
    "        "
   ]
  },
  {
   "cell_type": "markdown",
   "id": "6589de02",
   "metadata": {},
   "source": [
    "A. Création du bag of features"
   ]
  },
  {
   "cell_type": "code",
   "execution_count": 11,
   "id": "b21d9f1c",
   "metadata": {},
   "outputs": [],
   "source": [
    "features = np.asarray(features_list)"
   ]
  },
  {
   "cell_type": "markdown",
   "id": "742e3fa6",
   "metadata": {},
   "source": [
    "B. Réduction de dimension du bag of features"
   ]
  },
  {
   "cell_type": "code",
   "execution_count": 12,
   "id": "5d661266",
   "metadata": {},
   "outputs": [],
   "source": [
    "# Typically, we want the explained variance to be between 95–99%. In Scikit-learn we can set it like this:\n",
    "n_comp = 0.95\n"
   ]
  },
  {
   "cell_type": "code",
   "execution_count": 13,
   "id": "a9d2c3b5",
   "metadata": {},
   "outputs": [
    {
     "name": "stdout",
     "output_type": "stream",
     "text": [
      "Dimensions avant réduction PCA :  (1000, 4608)\n",
      "Dimensions après réduction PCA :  (1000, 87)\n"
     ]
    }
   ],
   "source": [
    "print(\"Dimensions avant réduction PCA : \", features.shape)\n",
    "pca = decomposition.PCA(n_components = n_comp)\n",
    "features_pca = pca.fit_transform(features) # projection\n",
    "print(\"Dimensions après réduction PCA : \", features_pca.shape)"
   ]
  },
  {
   "cell_type": "code",
   "execution_count": 16,
   "id": "a2a3fa54",
   "metadata": {},
   "outputs": [],
   "source": [
    "df = pd.DataFrame(features_pca)"
   ]
  },
  {
   "cell_type": "code",
   "execution_count": 17,
   "id": "4d90044d",
   "metadata": {},
   "outputs": [],
   "source": [
    "df_write = spark.createDataFrame(df)"
   ]
  },
  {
   "cell_type": "code",
   "execution_count": 20,
   "id": "0aa1578e",
   "metadata": {},
   "outputs": [],
   "source": [
    "df_write.write.option(\"header\",\"true\").csv(\"s3a://ocfruits17102021/csv/fruits\")"
   ]
  },
  {
   "cell_type": "code",
   "execution_count": null,
   "id": "5e558cfc",
   "metadata": {},
   "outputs": [],
   "source": []
  }
 ],
 "metadata": {
  "kernelspec": {
   "display_name": "conda_amazonei_tensorflow2_p36",
   "language": "python",
   "name": "conda_amazonei_tensorflow2_p36"
  },
  "language_info": {
   "codemirror_mode": {
    "name": "ipython",
    "version": 3
   },
   "file_extension": ".py",
   "mimetype": "text/x-python",
   "name": "python",
   "nbconvert_exporter": "python",
   "pygments_lexer": "ipython3",
   "version": "3.6.13"
  }
 },
 "nbformat": 4,
 "nbformat_minor": 5
}
